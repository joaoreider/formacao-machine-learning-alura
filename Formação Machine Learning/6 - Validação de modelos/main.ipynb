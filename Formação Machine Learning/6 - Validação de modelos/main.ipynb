{
 "cells": [
  {
   "cell_type": "code",
   "execution_count": 1,
   "metadata": {},
   "outputs": [
    {
     "data": {
      "text/html": [
       "<div>\n",
       "<style scoped>\n",
       "    .dataframe tbody tr th:only-of-type {\n",
       "        vertical-align: middle;\n",
       "    }\n",
       "\n",
       "    .dataframe tbody tr th {\n",
       "        vertical-align: top;\n",
       "    }\n",
       "\n",
       "    .dataframe thead th {\n",
       "        text-align: right;\n",
       "    }\n",
       "</style>\n",
       "<table border=\"1\" class=\"dataframe\">\n",
       "  <thead>\n",
       "    <tr style=\"text-align: right;\">\n",
       "      <th></th>\n",
       "      <th>preco</th>\n",
       "      <th>vendido</th>\n",
       "      <th>idade_do_modelo</th>\n",
       "      <th>km_por_ano</th>\n",
       "    </tr>\n",
       "  </thead>\n",
       "  <tbody>\n",
       "    <tr>\n",
       "      <th>0</th>\n",
       "      <td>30941.02</td>\n",
       "      <td>1</td>\n",
       "      <td>18</td>\n",
       "      <td>35085.22134</td>\n",
       "    </tr>\n",
       "    <tr>\n",
       "      <th>1</th>\n",
       "      <td>40557.96</td>\n",
       "      <td>1</td>\n",
       "      <td>20</td>\n",
       "      <td>12622.05362</td>\n",
       "    </tr>\n",
       "    <tr>\n",
       "      <th>2</th>\n",
       "      <td>89627.50</td>\n",
       "      <td>0</td>\n",
       "      <td>12</td>\n",
       "      <td>11440.79806</td>\n",
       "    </tr>\n",
       "    <tr>\n",
       "      <th>3</th>\n",
       "      <td>95276.14</td>\n",
       "      <td>0</td>\n",
       "      <td>3</td>\n",
       "      <td>43167.32682</td>\n",
       "    </tr>\n",
       "    <tr>\n",
       "      <th>4</th>\n",
       "      <td>117384.68</td>\n",
       "      <td>1</td>\n",
       "      <td>4</td>\n",
       "      <td>12770.11290</td>\n",
       "    </tr>\n",
       "    <tr>\n",
       "      <th>...</th>\n",
       "      <td>...</td>\n",
       "      <td>...</td>\n",
       "      <td>...</td>\n",
       "      <td>...</td>\n",
       "    </tr>\n",
       "    <tr>\n",
       "      <th>9995</th>\n",
       "      <td>97112.86</td>\n",
       "      <td>0</td>\n",
       "      <td>12</td>\n",
       "      <td>25060.64248</td>\n",
       "    </tr>\n",
       "    <tr>\n",
       "      <th>9996</th>\n",
       "      <td>107424.63</td>\n",
       "      <td>1</td>\n",
       "      <td>16</td>\n",
       "      <td>21317.31764</td>\n",
       "    </tr>\n",
       "    <tr>\n",
       "      <th>9997</th>\n",
       "      <td>93856.99</td>\n",
       "      <td>0</td>\n",
       "      <td>4</td>\n",
       "      <td>20950.38812</td>\n",
       "    </tr>\n",
       "    <tr>\n",
       "      <th>9998</th>\n",
       "      <td>51250.57</td>\n",
       "      <td>1</td>\n",
       "      <td>7</td>\n",
       "      <td>16840.13376</td>\n",
       "    </tr>\n",
       "    <tr>\n",
       "      <th>9999</th>\n",
       "      <td>87945.73</td>\n",
       "      <td>0</td>\n",
       "      <td>19</td>\n",
       "      <td>19894.66108</td>\n",
       "    </tr>\n",
       "  </tbody>\n",
       "</table>\n",
       "<p>10000 rows × 4 columns</p>\n",
       "</div>"
      ],
      "text/plain": [
       "          preco  vendido  idade_do_modelo   km_por_ano\n",
       "0      30941.02        1               18  35085.22134\n",
       "1      40557.96        1               20  12622.05362\n",
       "2      89627.50        0               12  11440.79806\n",
       "3      95276.14        0                3  43167.32682\n",
       "4     117384.68        1                4  12770.11290\n",
       "...         ...      ...              ...          ...\n",
       "9995   97112.86        0               12  25060.64248\n",
       "9996  107424.63        1               16  21317.31764\n",
       "9997   93856.99        0                4  20950.38812\n",
       "9998   51250.57        1                7  16840.13376\n",
       "9999   87945.73        0               19  19894.66108\n",
       "\n",
       "[10000 rows x 4 columns]"
      ]
     },
     "execution_count": 1,
     "metadata": {},
     "output_type": "execute_result"
    }
   ],
   "source": [
    "import pandas as pd\n",
    "uri = \"https://gist.githubusercontent.com/guilhermesilveira/e99a526b2e7ccc6c3b70f53db43a87d2/raw/1605fc74aa778066bf2e6695e24d53cf65f2f447/machine-learning-carros-simulacao.csv\"\n",
    "\n",
    "dados = pd.read_csv(uri).drop(columns=[\"Unnamed: 0\"], axis=1)\n",
    "dados"
   ]
  },
  {
   "cell_type": "code",
   "execution_count": 2,
   "metadata": {},
   "outputs": [
    {
     "name": "stdout",
     "output_type": "stream",
     "text": [
      "Treinaremos com 7500 elementos e testaremos com 2500 elementos.\n"
     ]
    }
   ],
   "source": [
    "# Separando dados de treino e teste 75% treino 25% teste\n",
    "import numpy as np\n",
    "from sklearn.model_selection import train_test_split\n",
    "from sklearn.svm import LinearSVC\n",
    "from sklearn.metrics import accuracy_score\n",
    "x = dados[['preco', 'idade_do_modelo', 'km_por_ano']]\n",
    "y = dados['vendido']\n",
    "SEED = 158020\n",
    "np.random.seed(SEED)\n",
    "treino_x, teste_x, treino_y, teste_y = train_test_split(x, y, test_size=0.25, stratify= y)\n",
    "print('Treinaremos com {} elementos e testaremos com {} elementos.'.format(len(treino_x), len(teste_x)))"
   ]
  },
  {
   "cell_type": "code",
   "execution_count": 3,
   "metadata": {},
   "outputs": [
    {
     "name": "stdout",
     "output_type": "stream",
     "text": [
      "A eficácia do dummy foi de 58.00%\n"
     ]
    }
   ],
   "source": [
    "# Definindo o que é uma taxa de acerto aceitável por meio de uma baseline\n",
    "from sklearn.dummy import DummyClassifier\n",
    "dummy_stratified = DummyClassifier()\n",
    "dummy_stratified.fit(treino_x, treino_y)\n",
    "acuracia = dummy_stratified.score(teste_x, teste_y) * 100\n",
    "print('A eficácia do dummy foi de {:.2f}%' .format(acuracia))\n"
   ]
  },
  {
   "cell_type": "code",
   "execution_count": 4,
   "metadata": {},
   "outputs": [
    {
     "name": "stdout",
     "output_type": "stream",
     "text": [
      "Taxa de acerto: 71.92%\n"
     ]
    },
    {
     "data": {
      "text/plain": [
       "'\\nPerceba que se mudarmos o SEED mudamos a taxa de acerto (para mais ou para menos)\\ne a validação de modelos não devem depender dessa aleatoriedade. É preciso utilizar\\nrecursos mais sofisticados para dizer se um modelo é válido ou não\\n\\n'"
      ]
     },
     "execution_count": 4,
     "metadata": {},
     "output_type": "execute_result"
    }
   ],
   "source": [
    "# Gerando uma árvore de decisão\n",
    "from sklearn.tree import DecisionTreeClassifier\n",
    "SEED = 158020\n",
    "np.random.seed(SEED)\n",
    "modelo = DecisionTreeClassifier(max_depth = 2)\n",
    "modelo.fit(treino_x, treino_y)\n",
    "previsoes = modelo.predict(teste_x)\n",
    "\n",
    "acuracia = accuracy_score(teste_y, previsoes) * 100\n",
    "print('Taxa de acerto: {:.2f}%' .format(acuracia))\n",
    "\n",
    "'''\n",
    "Perceba que se mudarmos o SEED mudamos a taxa de acerto (para mais ou para menos)\n",
    "e a validação de modelos não devem depender dessa aleatoriedade. É preciso utilizar\n",
    "recursos mais sofisticados para dizer se um modelo é válido ou não\n",
    "\n",
    "'''\n"
   ]
  },
  {
   "cell_type": "code",
   "execution_count": 5,
   "metadata": {},
   "outputs": [
    {
     "name": "stdout",
     "output_type": "stream",
     "text": [
      "Accuracy [74.99, 76.57]\n"
     ]
    }
   ],
   "source": [
    "# Treino - Teste (Holdout)\n",
    "''' Podemos ser afetados pela aleatoriedade no treino e teste e obter resultados não tão confiáveis.\n",
    "No caso de separar uma amostra pra teste e der 35% de acerto, e com outra dar 85%, faremos a média dos resultados\n",
    "e temos o resultado final, no caso 60%.\n",
    "O método utilizado será o Cross validation, separamos em n partes e cruzamos esses testes e treinos. É o K-fold (k pedaços)\n",
    "\n",
    " '''\n",
    "\n",
    "from sklearn.model_selection import cross_validate\n",
    "SEED = 158020\n",
    "np.random.seed(SEED)\n",
    "modelo = DecisionTreeClassifier(max_depth = 2)\n",
    "resultados = cross_validate(modelo, x, y, cv = 3, return_train_score=False)\n",
    "media = resultados['test_score'].mean()\n",
    "desvio_padrao = resultados['test_score'].std()\n",
    "print('Accuracy [{:.2f}, {:.2f}]' .format((media - 2 * desvio_padrao) * 100, (media +  2 * desvio_padrao) * 100)) # Intervalo de confiança de 95%"
   ]
  },
  {
   "cell_type": "code",
   "execution_count": 6,
   "metadata": {},
   "outputs": [
    {
     "name": "stdout",
     "output_type": "stream",
     "text": [
      "Accuracy [75.96, 77.42]\n"
     ]
    }
   ],
   "source": [
    "# Com 10 divisões\n",
    "from sklearn.model_selection import cross_validate\n",
    "SEED = 158020\n",
    "np.random.seed(SEED)\n",
    "modelo = DecisionTreeClassifier(max_depth = 10)\n",
    "resultados = cross_validate(modelo, x, y, cv = 3, return_train_score=False)\n",
    "media = resultados['test_score'].mean()\n",
    "desvio_padrao = resultados['test_score'].std()\n",
    "print('Accuracy [{:.2f}, {:.2f}]' .format((media - 2 * desvio_padrao) * 100, (media +  2 * desvio_padrao) * 100)) # Intervalo de confiança de 95%"
   ]
  },
  {
   "cell_type": "code",
   "execution_count": 7,
   "metadata": {},
   "outputs": [
    {
     "name": "stdout",
     "output_type": "stream",
     "text": [
      "Accuracy [77.96, 79.12]\n"
     ]
    }
   ],
   "source": [
    "# Com 5 divisões (divisões entre 5 e 10 jã são suficientes)\n",
    "from sklearn.model_selection import cross_validate\n",
    "SEED = 158020\n",
    "np.random.seed(SEED)\n",
    "modelo = DecisionTreeClassifier(max_depth = 5)\n",
    "resultados = cross_validate(modelo, x, y, cv = 3, return_train_score=False)\n",
    "media = resultados['test_score'].mean()\n",
    "desvio_padrao = resultados['test_score'].std()\n",
    "print('Accuracy [{:.2f}, {:.2f}]' .format((media - 2 * desvio_padrao) * 100, (media +  2 * desvio_padrao) * 100)) # Intervalo de confiança de 95%"
   ]
  },
  {
   "cell_type": "code",
   "execution_count": 8,
   "metadata": {},
   "outputs": [],
   "source": [
    "def imprime_resultados(resultados):\n",
    "    media = resultados['test_score'].mean()\n",
    "    desvio_padrao = resultados['test_score'].std()\n",
    "    print('Accuracy [{:.2f}, {:.2f}]' .format((media - 2 * desvio_padrao) * 100, (media +  2 * desvio_padrao) * 100)) # Intervalo de confiança de 95%"
   ]
  },
  {
   "cell_type": "code",
   "execution_count": 9,
   "metadata": {},
   "outputs": [
    {
     "name": "stdout",
     "output_type": "stream",
     "text": [
      "Accuracy [74.37, 77.19]\n"
     ]
    }
   ],
   "source": [
    "#Aletoriedade no cross validation\n",
    "from sklearn.model_selection import KFold\n",
    "SEED = 301\n",
    "np.random.seed(SEED)\n",
    "cv = KFold(n_splits = 10)\n",
    "modelo = DecisionTreeClassifier(max_depth = 2)\n",
    "resultados = cross_validate(modelo, x, y, cv = cv, return_train_score=False)\n",
    "imprime_resultados(resultados)"
   ]
  },
  {
   "cell_type": "code",
   "execution_count": 10,
   "metadata": {},
   "outputs": [
    {
     "name": "stdout",
     "output_type": "stream",
     "text": [
      "Accuracy [73.26, 78.26]\n"
     ]
    }
   ],
   "source": [
    "#Com Shuffle\n",
    "from sklearn.model_selection import KFold\n",
    "SEED = 301\n",
    "np.random.seed(SEED)\n",
    "\n",
    "cv = KFold(n_splits = 10, shuffle= True)\n",
    "modelo = DecisionTreeClassifier(max_depth = 2)\n",
    "resultados = cross_validate(modelo, x, y, cv = cv, return_train_score=False)\n",
    "imprime_resultados(resultados)"
   ]
  },
  {
   "cell_type": "code",
   "execution_count": 11,
   "metadata": {},
   "outputs": [
    {
     "name": "stdout",
     "output_type": "stream",
     "text": [
      "Taxa de acerto: 74.40%\n"
     ]
    }
   ],
   "source": [
    "#  Cross validation com Standard Scaler\n",
    "from sklearn.preprocessing import StandardScaler\n",
    "SEED = 301\n",
    "np.random.seed(SEED)\n",
    "\n",
    "scaler = StandardScaler()\n",
    "scaler.fit(treino_x)\n",
    "treino_x_escalado = scaler.transform(treino_x)\n",
    "teste_x_escalado =  scaler.transform(teste_x)\n",
    "\n",
    "from sklearn.svm import SVC\n",
    "\n",
    "\n",
    "\n",
    "modelo = SVC()\n",
    "modelo.fit(treino_x_escalado, treino_y)\n",
    "previsoes = modelo.predict(teste_x_escalado)\n",
    "\n",
    "acuracia = accuracy_score(teste_y, previsoes) * 100\n",
    "print('Taxa de acerto: {:.2f}%' .format(acuracia))"
   ]
  },
  {
   "cell_type": "code",
   "execution_count": 12,
   "metadata": {},
   "outputs": [
    {
     "name": "stdout",
     "output_type": "stream",
     "text": [
      "Accuracy [74.76, 79.54]\n"
     ]
    }
   ],
   "source": [
    "\n",
    "from sklearn.model_selection import GroupKFold\n",
    "SEED = 301\n",
    "np.random.seed(SEED)\n",
    "cv = KFold(n_splits = 10)\n",
    "modelo = SVC()\n",
    "resultados = cross_validate(modelo, x, y, cv = cv, return_train_score=False)\n",
    "imprime_resultados(resultados)"
   ]
  },
  {
   "cell_type": "code",
   "execution_count": 13,
   "metadata": {},
   "outputs": [
    {
     "name": "stdout",
     "output_type": "stream",
     "text": [
      "Accuracy [74.76, 79.54]\n"
     ]
    }
   ],
   "source": [
    "from sklearn.pipeline import Pipeline\n",
    "SEED = 301\n",
    "np.random.seed(SEED)\n",
    "\n",
    "scaler = StandardScaler()\n",
    "modelo = SVC()\n",
    "\n",
    "Pipeline = Pipeline([('transformacao', scaler), ('estimador', modelo)])\n",
    "\n",
    "cv = KFold(n_splits = 10)\n",
    "resultados = cross_validate(modelo, x, y, cv = cv, return_train_score=False)\n",
    "imprime_resultados(resultados)"
   ]
  }
 ],
 "metadata": {
  "interpreter": {
   "hash": "1079566229d2f3bfa8fa6dcc2c807cd91cb2e537e2e45b7d56ec6b66d2ccaa9e"
  },
  "kernelspec": {
   "display_name": "Python 3.9.10 64-bit (windows store)",
   "language": "python",
   "name": "python3"
  },
  "language_info": {
   "codemirror_mode": {
    "name": "ipython",
    "version": 3
   },
   "file_extension": ".py",
   "mimetype": "text/x-python",
   "name": "python",
   "nbconvert_exporter": "python",
   "pygments_lexer": "ipython3",
   "version": "3.9.10"
  },
  "orig_nbformat": 4
 },
 "nbformat": 4,
 "nbformat_minor": 2
}
